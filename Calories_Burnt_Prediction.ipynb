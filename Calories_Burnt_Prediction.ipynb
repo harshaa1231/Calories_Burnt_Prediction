{
 "cells": [
  {
   "cell_type": "markdown",
   "metadata": {
    "id": "A7rnn_bULOF7"
   },
   "source": [
    "Exploratory Data Analysis."
   ]
  },
  {
   "cell_type": "code",
   "execution_count": 1,
   "metadata": {
    "id": "r-aNAf_Z6Xyo"
   },
   "outputs": [],
   "source": [
    "#Importing Pandas for EDA\n",
    "import pandas as pd"
   ]
  },
  {
   "cell_type": "code",
   "execution_count": 2,
   "metadata": {
    "id": "BI7MUx1g60DY"
   },
   "outputs": [],
   "source": [
    "#Loading the Dataset\n",
    "mining = pd.read_csv('/Users/harshavardhan/Downloads/archive (8)/calories.csv')"
   ]
  },
  {
   "cell_type": "code",
   "execution_count": 3,
   "metadata": {
    "colab": {
     "base_uri": "https://localhost:8080/",
     "height": 363
    },
    "id": "qJVI2cAG7CiN",
    "outputId": "05c47cac-a4e0-4f78-c591-a7bae09ca658"
   },
   "outputs": [
    {
     "data": {
      "text/html": [
       "<div>\n",
       "<style scoped>\n",
       "    .dataframe tbody tr th:only-of-type {\n",
       "        vertical-align: middle;\n",
       "    }\n",
       "\n",
       "    .dataframe tbody tr th {\n",
       "        vertical-align: top;\n",
       "    }\n",
       "\n",
       "    .dataframe thead th {\n",
       "        text-align: right;\n",
       "    }\n",
       "</style>\n",
       "<table border=\"1\" class=\"dataframe\">\n",
       "  <thead>\n",
       "    <tr style=\"text-align: right;\">\n",
       "      <th></th>\n",
       "      <th>User_ID</th>\n",
       "      <th>Calories</th>\n",
       "    </tr>\n",
       "  </thead>\n",
       "  <tbody>\n",
       "    <tr>\n",
       "      <th>0</th>\n",
       "      <td>14733363</td>\n",
       "      <td>231.0</td>\n",
       "    </tr>\n",
       "    <tr>\n",
       "      <th>1</th>\n",
       "      <td>14861698</td>\n",
       "      <td>66.0</td>\n",
       "    </tr>\n",
       "    <tr>\n",
       "      <th>2</th>\n",
       "      <td>11179863</td>\n",
       "      <td>26.0</td>\n",
       "    </tr>\n",
       "    <tr>\n",
       "      <th>3</th>\n",
       "      <td>16180408</td>\n",
       "      <td>71.0</td>\n",
       "    </tr>\n",
       "    <tr>\n",
       "      <th>4</th>\n",
       "      <td>17771927</td>\n",
       "      <td>35.0</td>\n",
       "    </tr>\n",
       "    <tr>\n",
       "      <th>5</th>\n",
       "      <td>15130815</td>\n",
       "      <td>123.0</td>\n",
       "    </tr>\n",
       "    <tr>\n",
       "      <th>6</th>\n",
       "      <td>19602372</td>\n",
       "      <td>112.0</td>\n",
       "    </tr>\n",
       "    <tr>\n",
       "      <th>7</th>\n",
       "      <td>11117088</td>\n",
       "      <td>143.0</td>\n",
       "    </tr>\n",
       "    <tr>\n",
       "      <th>8</th>\n",
       "      <td>12132339</td>\n",
       "      <td>134.0</td>\n",
       "    </tr>\n",
       "    <tr>\n",
       "      <th>9</th>\n",
       "      <td>17964668</td>\n",
       "      <td>72.0</td>\n",
       "    </tr>\n",
       "  </tbody>\n",
       "</table>\n",
       "</div>"
      ],
      "text/plain": [
       "    User_ID  Calories\n",
       "0  14733363     231.0\n",
       "1  14861698      66.0\n",
       "2  11179863      26.0\n",
       "3  16180408      71.0\n",
       "4  17771927      35.0\n",
       "5  15130815     123.0\n",
       "6  19602372     112.0\n",
       "7  11117088     143.0\n",
       "8  12132339     134.0\n",
       "9  17964668      72.0"
      ]
     },
     "execution_count": 3,
     "metadata": {},
     "output_type": "execute_result"
    }
   ],
   "source": [
    "#Understanding the first 10 data entries.\n",
    "mining.head(10)"
   ]
  },
  {
   "cell_type": "code",
   "execution_count": 4,
   "metadata": {
    "colab": {
     "base_uri": "https://localhost:8080/"
    },
    "id": "D7wbY4RF7FDk",
    "outputId": "cdbf05e3-eb68-475b-8750-85426ee39192"
   },
   "outputs": [
    {
     "data": {
      "text/plain": [
       "15000"
      ]
     },
     "execution_count": 4,
     "metadata": {},
     "output_type": "execute_result"
    }
   ],
   "source": [
    "#Checking the count of the first csv file\n",
    "len(mining)"
   ]
  },
  {
   "cell_type": "code",
   "execution_count": 5,
   "metadata": {
    "id": "rgGdJOrp7yij"
   },
   "outputs": [],
   "source": [
    "#Loading the exercise dataset file.\n",
    "data_min = pd.read_csv('/Users/harshavardhan/Downloads/archive (8)/exercise.csv')"
   ]
  },
  {
   "cell_type": "code",
   "execution_count": 6,
   "metadata": {
    "colab": {
     "base_uri": "https://localhost:8080/",
     "height": 269
    },
    "id": "ZR-U5xjj8-3l",
    "outputId": "57374919-bd00-4d0e-fc50-089208d336f3"
   },
   "outputs": [
    {
     "data": {
      "text/html": [
       "<div>\n",
       "<style scoped>\n",
       "    .dataframe tbody tr th:only-of-type {\n",
       "        vertical-align: middle;\n",
       "    }\n",
       "\n",
       "    .dataframe tbody tr th {\n",
       "        vertical-align: top;\n",
       "    }\n",
       "\n",
       "    .dataframe thead th {\n",
       "        text-align: right;\n",
       "    }\n",
       "</style>\n",
       "<table border=\"1\" class=\"dataframe\">\n",
       "  <thead>\n",
       "    <tr style=\"text-align: right;\">\n",
       "      <th></th>\n",
       "      <th>User_ID</th>\n",
       "      <th>Gender</th>\n",
       "      <th>Age</th>\n",
       "      <th>Height</th>\n",
       "      <th>Weight</th>\n",
       "      <th>Duration</th>\n",
       "      <th>Heart_Rate</th>\n",
       "      <th>Body_Temp</th>\n",
       "    </tr>\n",
       "  </thead>\n",
       "  <tbody>\n",
       "    <tr>\n",
       "      <th>0</th>\n",
       "      <td>14733363</td>\n",
       "      <td>male</td>\n",
       "      <td>68</td>\n",
       "      <td>190.0</td>\n",
       "      <td>94.0</td>\n",
       "      <td>29.0</td>\n",
       "      <td>105.0</td>\n",
       "      <td>40.8</td>\n",
       "    </tr>\n",
       "    <tr>\n",
       "      <th>1</th>\n",
       "      <td>14861698</td>\n",
       "      <td>female</td>\n",
       "      <td>20</td>\n",
       "      <td>166.0</td>\n",
       "      <td>60.0</td>\n",
       "      <td>14.0</td>\n",
       "      <td>94.0</td>\n",
       "      <td>40.3</td>\n",
       "    </tr>\n",
       "    <tr>\n",
       "      <th>2</th>\n",
       "      <td>11179863</td>\n",
       "      <td>male</td>\n",
       "      <td>69</td>\n",
       "      <td>179.0</td>\n",
       "      <td>79.0</td>\n",
       "      <td>5.0</td>\n",
       "      <td>88.0</td>\n",
       "      <td>38.7</td>\n",
       "    </tr>\n",
       "    <tr>\n",
       "      <th>3</th>\n",
       "      <td>16180408</td>\n",
       "      <td>female</td>\n",
       "      <td>34</td>\n",
       "      <td>179.0</td>\n",
       "      <td>71.0</td>\n",
       "      <td>13.0</td>\n",
       "      <td>100.0</td>\n",
       "      <td>40.5</td>\n",
       "    </tr>\n",
       "    <tr>\n",
       "      <th>4</th>\n",
       "      <td>17771927</td>\n",
       "      <td>female</td>\n",
       "      <td>27</td>\n",
       "      <td>154.0</td>\n",
       "      <td>58.0</td>\n",
       "      <td>10.0</td>\n",
       "      <td>81.0</td>\n",
       "      <td>39.8</td>\n",
       "    </tr>\n",
       "    <tr>\n",
       "      <th>5</th>\n",
       "      <td>15130815</td>\n",
       "      <td>female</td>\n",
       "      <td>36</td>\n",
       "      <td>151.0</td>\n",
       "      <td>50.0</td>\n",
       "      <td>23.0</td>\n",
       "      <td>96.0</td>\n",
       "      <td>40.7</td>\n",
       "    </tr>\n",
       "    <tr>\n",
       "      <th>6</th>\n",
       "      <td>19602372</td>\n",
       "      <td>female</td>\n",
       "      <td>33</td>\n",
       "      <td>158.0</td>\n",
       "      <td>56.0</td>\n",
       "      <td>22.0</td>\n",
       "      <td>95.0</td>\n",
       "      <td>40.5</td>\n",
       "    </tr>\n",
       "  </tbody>\n",
       "</table>\n",
       "</div>"
      ],
      "text/plain": [
       "    User_ID  Gender  Age  Height  Weight  Duration  Heart_Rate  Body_Temp\n",
       "0  14733363    male   68   190.0    94.0      29.0       105.0       40.8\n",
       "1  14861698  female   20   166.0    60.0      14.0        94.0       40.3\n",
       "2  11179863    male   69   179.0    79.0       5.0        88.0       38.7\n",
       "3  16180408  female   34   179.0    71.0      13.0       100.0       40.5\n",
       "4  17771927  female   27   154.0    58.0      10.0        81.0       39.8\n",
       "5  15130815  female   36   151.0    50.0      23.0        96.0       40.7\n",
       "6  19602372  female   33   158.0    56.0      22.0        95.0       40.5"
      ]
     },
     "execution_count": 6,
     "metadata": {},
     "output_type": "execute_result"
    }
   ],
   "source": [
    "#Reading the first 7 enteries in the dataset.\n",
    "data_min.head(7)"
   ]
  },
  {
   "cell_type": "markdown",
   "metadata": {
    "id": "dlcjwCN49dBT"
   },
   "source": [
    "Since, There are two datasets in our project, One which contains user_id and calories count and the other with the age height weight and other features we concatinate them."
   ]
  },
  {
   "cell_type": "code",
   "execution_count": 7,
   "metadata": {
    "id": "3a-Hy9Zk9BbB"
   },
   "outputs": [],
   "source": [
    "#Concat functions in pandas helps join either a column or row or either two datasets together.\n",
    "Project = pd.concat([data_min, mining['Calories']], axis=1)"
   ]
  },
  {
   "cell_type": "code",
   "execution_count": 8,
   "metadata": {
    "colab": {
     "base_uri": "https://localhost:8080/",
     "height": 206
    },
    "id": "gyWd5q5j-SXJ",
    "outputId": "d26511fe-0d8b-46ff-d884-fb55c50ed7c3"
   },
   "outputs": [
    {
     "data": {
      "text/html": [
       "<div>\n",
       "<style scoped>\n",
       "    .dataframe tbody tr th:only-of-type {\n",
       "        vertical-align: middle;\n",
       "    }\n",
       "\n",
       "    .dataframe tbody tr th {\n",
       "        vertical-align: top;\n",
       "    }\n",
       "\n",
       "    .dataframe thead th {\n",
       "        text-align: right;\n",
       "    }\n",
       "</style>\n",
       "<table border=\"1\" class=\"dataframe\">\n",
       "  <thead>\n",
       "    <tr style=\"text-align: right;\">\n",
       "      <th></th>\n",
       "      <th>User_ID</th>\n",
       "      <th>Gender</th>\n",
       "      <th>Age</th>\n",
       "      <th>Height</th>\n",
       "      <th>Weight</th>\n",
       "      <th>Duration</th>\n",
       "      <th>Heart_Rate</th>\n",
       "      <th>Body_Temp</th>\n",
       "      <th>Calories</th>\n",
       "    </tr>\n",
       "  </thead>\n",
       "  <tbody>\n",
       "    <tr>\n",
       "      <th>0</th>\n",
       "      <td>14733363</td>\n",
       "      <td>male</td>\n",
       "      <td>68</td>\n",
       "      <td>190.0</td>\n",
       "      <td>94.0</td>\n",
       "      <td>29.0</td>\n",
       "      <td>105.0</td>\n",
       "      <td>40.8</td>\n",
       "      <td>231.0</td>\n",
       "    </tr>\n",
       "    <tr>\n",
       "      <th>1</th>\n",
       "      <td>14861698</td>\n",
       "      <td>female</td>\n",
       "      <td>20</td>\n",
       "      <td>166.0</td>\n",
       "      <td>60.0</td>\n",
       "      <td>14.0</td>\n",
       "      <td>94.0</td>\n",
       "      <td>40.3</td>\n",
       "      <td>66.0</td>\n",
       "    </tr>\n",
       "    <tr>\n",
       "      <th>2</th>\n",
       "      <td>11179863</td>\n",
       "      <td>male</td>\n",
       "      <td>69</td>\n",
       "      <td>179.0</td>\n",
       "      <td>79.0</td>\n",
       "      <td>5.0</td>\n",
       "      <td>88.0</td>\n",
       "      <td>38.7</td>\n",
       "      <td>26.0</td>\n",
       "    </tr>\n",
       "    <tr>\n",
       "      <th>3</th>\n",
       "      <td>16180408</td>\n",
       "      <td>female</td>\n",
       "      <td>34</td>\n",
       "      <td>179.0</td>\n",
       "      <td>71.0</td>\n",
       "      <td>13.0</td>\n",
       "      <td>100.0</td>\n",
       "      <td>40.5</td>\n",
       "      <td>71.0</td>\n",
       "    </tr>\n",
       "    <tr>\n",
       "      <th>4</th>\n",
       "      <td>17771927</td>\n",
       "      <td>female</td>\n",
       "      <td>27</td>\n",
       "      <td>154.0</td>\n",
       "      <td>58.0</td>\n",
       "      <td>10.0</td>\n",
       "      <td>81.0</td>\n",
       "      <td>39.8</td>\n",
       "      <td>35.0</td>\n",
       "    </tr>\n",
       "  </tbody>\n",
       "</table>\n",
       "</div>"
      ],
      "text/plain": [
       "    User_ID  Gender  Age  Height  Weight  Duration  Heart_Rate  Body_Temp  \\\n",
       "0  14733363    male   68   190.0    94.0      29.0       105.0       40.8   \n",
       "1  14861698  female   20   166.0    60.0      14.0        94.0       40.3   \n",
       "2  11179863    male   69   179.0    79.0       5.0        88.0       38.7   \n",
       "3  16180408  female   34   179.0    71.0      13.0       100.0       40.5   \n",
       "4  17771927  female   27   154.0    58.0      10.0        81.0       39.8   \n",
       "\n",
       "   Calories  \n",
       "0     231.0  \n",
       "1      66.0  \n",
       "2      26.0  \n",
       "3      71.0  \n",
       "4      35.0  "
      ]
     },
     "execution_count": 8,
     "metadata": {},
     "output_type": "execute_result"
    }
   ],
   "source": [
    "#Reading the dataset after joining the calories column.\n",
    "Project.head(5)"
   ]
  },
  {
   "cell_type": "code",
   "execution_count": 9,
   "metadata": {
    "colab": {
     "base_uri": "https://localhost:8080/"
    },
    "id": "BUSp31NQ-U42",
    "outputId": "8041b13a-cfdb-4e63-94e6-73dafd658d7f"
   },
   "outputs": [
    {
     "name": "stdout",
     "output_type": "stream",
     "text": [
      "<class 'pandas.core.frame.DataFrame'>\n",
      "RangeIndex: 15000 entries, 0 to 14999\n",
      "Data columns (total 9 columns):\n",
      " #   Column      Non-Null Count  Dtype  \n",
      "---  ------      --------------  -----  \n",
      " 0   User_ID     15000 non-null  int64  \n",
      " 1   Gender      15000 non-null  object \n",
      " 2   Age         15000 non-null  int64  \n",
      " 3   Height      15000 non-null  float64\n",
      " 4   Weight      15000 non-null  float64\n",
      " 5   Duration    15000 non-null  float64\n",
      " 6   Heart_Rate  15000 non-null  float64\n",
      " 7   Body_Temp   15000 non-null  float64\n",
      " 8   Calories    15000 non-null  float64\n",
      "dtypes: float64(6), int64(2), object(1)\n",
      "memory usage: 1.0+ MB\n"
     ]
    }
   ],
   "source": [
    "#Understanding the datatypes of each column.\n",
    "Project.info()"
   ]
  },
  {
   "cell_type": "code",
   "execution_count": 10,
   "metadata": {
    "colab": {
     "base_uri": "https://localhost:8080/"
    },
    "id": "YxpK6nI3-kDa",
    "outputId": "e3a1a2b6-5a5d-4907-aaae-3894a6b72581"
   },
   "outputs": [
    {
     "data": {
      "text/plain": [
       "User_ID       0\n",
       "Gender        0\n",
       "Age           0\n",
       "Height        0\n",
       "Weight        0\n",
       "Duration      0\n",
       "Heart_Rate    0\n",
       "Body_Temp     0\n",
       "Calories      0\n",
       "dtype: int64"
      ]
     },
     "execution_count": 10,
     "metadata": {},
     "output_type": "execute_result"
    }
   ],
   "source": [
    "#Checking for null values.\n",
    "Project.isnull().sum()"
   ]
  },
  {
   "cell_type": "code",
   "execution_count": 11,
   "metadata": {
    "id": "U_Q1n6Gm_OQm"
   },
   "outputs": [],
   "source": [
    "#Adding another feature to the dataset such as BMI along with the cateogories range of the BMI.\n",
    "#Using the Formula to calculate BMI.\n",
    "Project['BMI'] = Project['Weight'] / ((Project['Height'] / 100) ** 2)\n"
   ]
  },
  {
   "cell_type": "code",
   "execution_count": 12,
   "metadata": {
    "colab": {
     "base_uri": "https://localhost:8080/"
    },
    "id": "vDecRuWLEfIR",
    "outputId": "5aa212c2-3965-441c-9772-dc95613dc7cf"
   },
   "outputs": [
    {
     "name": "stdout",
     "output_type": "stream",
     "text": [
      "        User_ID  Gender  Age  Height  Weight  Duration  Heart_Rate  Body_Temp  \\\n",
      "0      14733363    male   68   190.0    94.0      29.0       105.0       40.8   \n",
      "1      14861698  female   20   166.0    60.0      14.0        94.0       40.3   \n",
      "2      11179863    male   69   179.0    79.0       5.0        88.0       38.7   \n",
      "3      16180408  female   34   179.0    71.0      13.0       100.0       40.5   \n",
      "4      17771927  female   27   154.0    58.0      10.0        81.0       39.8   \n",
      "...         ...     ...  ...     ...     ...       ...         ...        ...   \n",
      "14995  15644082  female   20   193.0    86.0      11.0        92.0       40.4   \n",
      "14996  17212577  female   27   165.0    65.0       6.0        85.0       39.2   \n",
      "14997  17271188  female   43   159.0    58.0      16.0        90.0       40.1   \n",
      "14998  18643037    male   78   193.0    97.0       2.0        84.0       38.3   \n",
      "14999  11751526    male   63   173.0    79.0      18.0        92.0       40.5   \n",
      "\n",
      "       Calories        BMI   Weight_Status  \n",
      "0         231.0  26.038781      Overweight  \n",
      "1          66.0  21.773842  Healthy Weight  \n",
      "2          26.0  24.655910  Healthy Weight  \n",
      "3          71.0  22.159109  Healthy Weight  \n",
      "4          35.0  24.456063  Healthy Weight  \n",
      "...         ...        ...             ...  \n",
      "14995      45.0  23.087868  Healthy Weight  \n",
      "14996      23.0  23.875115  Healthy Weight  \n",
      "14997      75.0  22.942130  Healthy Weight  \n",
      "14998      11.0  26.040968      Overweight  \n",
      "14999      98.0  26.395803      Overweight  \n",
      "\n",
      "[15000 rows x 11 columns]\n"
     ]
    }
   ],
   "source": [
    "# Categorizing BMI\n",
    "def categorize_bmi(bmi):\n",
    "    if bmi < 18.5:\n",
    "        return 'Underweight'\n",
    "    elif 18.5 <= bmi < 25:\n",
    "        return 'Healthy Weight'\n",
    "    elif 25 <= bmi < 30:\n",
    "        return 'Overweight'\n",
    "    else:\n",
    "        return 'Obesity'\n",
    "\n",
    "Project['Weight_Status'] = Project['BMI'].apply(categorize_bmi)\n",
    "\n",
    "print(Project)"
   ]
  },
  {
   "cell_type": "code",
   "execution_count": 13,
   "metadata": {
    "colab": {
     "base_uri": "https://localhost:8080/"
    },
    "id": "wf27XDQnCGf1",
    "outputId": "d2579dde-d290-4ec5-da44-2daddd3299bb"
   },
   "outputs": [
    {
     "data": {
      "text/plain": [
       "Weight_Status\n",
       "Healthy Weight    9792\n",
       "Overweight        5208\n",
       "Name: count, dtype: int64"
      ]
     },
     "execution_count": 13,
     "metadata": {},
     "output_type": "execute_result"
    }
   ],
   "source": [
    "Project['Weight_Status'].value_counts()"
   ]
  },
  {
   "cell_type": "code",
   "execution_count": 14,
   "metadata": {
    "colab": {
     "base_uri": "https://localhost:8080/",
     "height": 206
    },
    "id": "8QJBlIWeBOza",
    "outputId": "f20f42ec-8525-4e02-b185-8a9aff4ee6d3"
   },
   "outputs": [
    {
     "data": {
      "text/html": [
       "<div>\n",
       "<style scoped>\n",
       "    .dataframe tbody tr th:only-of-type {\n",
       "        vertical-align: middle;\n",
       "    }\n",
       "\n",
       "    .dataframe tbody tr th {\n",
       "        vertical-align: top;\n",
       "    }\n",
       "\n",
       "    .dataframe thead th {\n",
       "        text-align: right;\n",
       "    }\n",
       "</style>\n",
       "<table border=\"1\" class=\"dataframe\">\n",
       "  <thead>\n",
       "    <tr style=\"text-align: right;\">\n",
       "      <th></th>\n",
       "      <th>User_ID</th>\n",
       "      <th>Gender</th>\n",
       "      <th>Age</th>\n",
       "      <th>Height</th>\n",
       "      <th>Weight</th>\n",
       "      <th>Duration</th>\n",
       "      <th>Heart_Rate</th>\n",
       "      <th>Body_Temp</th>\n",
       "      <th>Calories</th>\n",
       "      <th>BMI</th>\n",
       "      <th>Weight_Status</th>\n",
       "    </tr>\n",
       "  </thead>\n",
       "  <tbody>\n",
       "    <tr>\n",
       "      <th>0</th>\n",
       "      <td>14733363</td>\n",
       "      <td>male</td>\n",
       "      <td>68</td>\n",
       "      <td>190.0</td>\n",
       "      <td>94.0</td>\n",
       "      <td>29.0</td>\n",
       "      <td>105.0</td>\n",
       "      <td>40.8</td>\n",
       "      <td>231.0</td>\n",
       "      <td>26.038781</td>\n",
       "      <td>Overweight</td>\n",
       "    </tr>\n",
       "    <tr>\n",
       "      <th>1</th>\n",
       "      <td>14861698</td>\n",
       "      <td>female</td>\n",
       "      <td>20</td>\n",
       "      <td>166.0</td>\n",
       "      <td>60.0</td>\n",
       "      <td>14.0</td>\n",
       "      <td>94.0</td>\n",
       "      <td>40.3</td>\n",
       "      <td>66.0</td>\n",
       "      <td>21.773842</td>\n",
       "      <td>Healthy Weight</td>\n",
       "    </tr>\n",
       "    <tr>\n",
       "      <th>2</th>\n",
       "      <td>11179863</td>\n",
       "      <td>male</td>\n",
       "      <td>69</td>\n",
       "      <td>179.0</td>\n",
       "      <td>79.0</td>\n",
       "      <td>5.0</td>\n",
       "      <td>88.0</td>\n",
       "      <td>38.7</td>\n",
       "      <td>26.0</td>\n",
       "      <td>24.655910</td>\n",
       "      <td>Healthy Weight</td>\n",
       "    </tr>\n",
       "    <tr>\n",
       "      <th>3</th>\n",
       "      <td>16180408</td>\n",
       "      <td>female</td>\n",
       "      <td>34</td>\n",
       "      <td>179.0</td>\n",
       "      <td>71.0</td>\n",
       "      <td>13.0</td>\n",
       "      <td>100.0</td>\n",
       "      <td>40.5</td>\n",
       "      <td>71.0</td>\n",
       "      <td>22.159109</td>\n",
       "      <td>Healthy Weight</td>\n",
       "    </tr>\n",
       "    <tr>\n",
       "      <th>4</th>\n",
       "      <td>17771927</td>\n",
       "      <td>female</td>\n",
       "      <td>27</td>\n",
       "      <td>154.0</td>\n",
       "      <td>58.0</td>\n",
       "      <td>10.0</td>\n",
       "      <td>81.0</td>\n",
       "      <td>39.8</td>\n",
       "      <td>35.0</td>\n",
       "      <td>24.456063</td>\n",
       "      <td>Healthy Weight</td>\n",
       "    </tr>\n",
       "  </tbody>\n",
       "</table>\n",
       "</div>"
      ],
      "text/plain": [
       "    User_ID  Gender  Age  Height  Weight  Duration  Heart_Rate  Body_Temp  \\\n",
       "0  14733363    male   68   190.0    94.0      29.0       105.0       40.8   \n",
       "1  14861698  female   20   166.0    60.0      14.0        94.0       40.3   \n",
       "2  11179863    male   69   179.0    79.0       5.0        88.0       38.7   \n",
       "3  16180408  female   34   179.0    71.0      13.0       100.0       40.5   \n",
       "4  17771927  female   27   154.0    58.0      10.0        81.0       39.8   \n",
       "\n",
       "   Calories        BMI   Weight_Status  \n",
       "0     231.0  26.038781      Overweight  \n",
       "1      66.0  21.773842  Healthy Weight  \n",
       "2      26.0  24.655910  Healthy Weight  \n",
       "3      71.0  22.159109  Healthy Weight  \n",
       "4      35.0  24.456063  Healthy Weight  "
      ]
     },
     "execution_count": 14,
     "metadata": {},
     "output_type": "execute_result"
    }
   ],
   "source": [
    "#Reading in the data again\n",
    "Project.head()"
   ]
  },
  {
   "cell_type": "markdown",
   "metadata": {
    "id": "j1ohrekfLG-l"
   },
   "source": [
    "Data Visualisation."
   ]
  },
  {
   "cell_type": "code",
   "execution_count": 15,
   "metadata": {
    "id": "0QEb027oCpsP"
   },
   "outputs": [],
   "source": [
    "import matplotlib.pyplot as plt\n",
    "import seaborn as sns"
   ]
  },
  {
   "cell_type": "code",
   "execution_count": 16,
   "metadata": {
    "colab": {
     "base_uri": "https://localhost:8080/",
     "height": 496
    },
    "id": "OIJHlM4XCERT",
    "outputId": "b3f73e3a-1da8-4657-fbff-6a7553e5e614"
   },
   "outputs": [
    {
     "data": {
      "text/plain": [
       "<Figure size 800x600 with 0 Axes>"
      ]
     },
     "metadata": {},
     "output_type": "display_data"
    },
    {
     "data": {
      "image/png": "[encoded data removed]",
      "text/plain": [
       "<Figure size 640x480 with 1 Axes>"
      ]
     },
     "metadata": {},
     "output_type": "display_data"
    }
   ],
   "source": [
    "#Age by Gender\n",
    "plt.figure(figsize=(8, 6))\n",
    "Project.boxplot(column='Age', by='Gender')\n",
    "plt.title('Age by Gender')\n",
    "plt.ylabel('Age')\n",
    "plt.xlabel('Gender')\n",
    "plt.grid(False)\n",
    "plt.show()"
   ]
  },
  {
   "cell_type": "code",
   "execution_count": 17,
   "metadata": {
    "colab": {
     "base_uri": "https://localhost:8080/",
     "height": 430
    },
    "id": "Reit8ql2Ht8V",
    "outputId": "fce76f5c-9e73-4ca2-8abe-4874acded7cf"
   },
   "outputs": [
    {
     "data": {
      "image/png": "[encoded data removed]",
      "text/plain": [
       "<Figure size 640x480 with 1 Axes>"
      ]
     },
     "metadata": {},
     "output_type": "display_data"
    }
   ],
   "source": [
    "#Count of Weight_status to the count in the dataset.\n",
    "Project.groupby('Weight_Status').size().plot(kind='barh', color=sns.palettes.mpl_palette('Dark2'))\n",
    "plt.gca().spines[['top', 'right',]].set_visible(False)"
   ]
  },
  {
   "cell_type": "code",
   "execution_count": 18,
   "metadata": {
    "colab": {
     "base_uri": "https://localhost:8080/",
     "height": 696
    },
    "id": "r6XvSDJhInZQ",
    "outputId": "8611ef45-0da0-4007-bfe1-e399fd09f32c"
   },
   "outputs": [
    {
     "data": {
      "image/png": "[encoded data removed]",
      "text/plain": [
       "<Figure size 800x800 with 2 Axes>"
      ]
     },
     "metadata": {},
     "output_type": "display_data"
    }
   ],
   "source": [
    "#Heat map of Gender and Weight_Status.\n",
    "\n",
    "plt.subplots(figsize=(8, 8))\n",
    "df_2dhist = pd.DataFrame({\n",
    "    x_label: grp['Weight_Status'].value_counts()\n",
    "    for x_label, grp in Project.groupby('Gender')\n",
    "})\n",
    "sns.heatmap(df_2dhist, cmap='viridis')\n",
    "plt.xlabel('Gender')\n",
    "_ = plt.ylabel('Weight_Status')"
   ]
  },
  {
   "cell_type": "code",
   "execution_count": 19,
   "metadata": {
    "colab": {
     "base_uri": "https://localhost:8080/",
     "height": 564
    },
    "id": "DOCaAGwwDvLf",
    "outputId": "462e8035-7766-47ee-9821-2bf80869811d"
   },
   "outputs": [
    {
     "data": {
      "image/png": "[encoded data removed]",
      "text/plain": [
       "<Figure size 800x600 with 1 Axes>"
      ]
     },
     "metadata": {},
     "output_type": "display_data"
    }
   ],
   "source": [
    "#Duration vs Calories Burnt\n",
    "plt.figure(figsize=(8, 6))\n",
    "plt.bar(Project['Duration'], Project['Calories'], color='b', alpha=0.7)\n",
    "plt.title('Duration vs Calories Burnt')\n",
    "plt.xlabel('Duration')\n",
    "plt.ylabel('Calories Burnt')\n",
    "plt.grid(axis='y', linestyle='--', alpha=0.7)\n",
    "plt.show()"
   ]
  },
  {
   "cell_type": "code",
   "execution_count": 20,
   "metadata": {
    "colab": {
     "base_uri": "https://localhost:8080/",
     "height": 564
    },
    "id": "8uecgZ4xJKA_",
    "outputId": "342d8a4e-77ba-49fc-9bb1-6ee3724c17ec"
   },
   "outputs": [
    {
     "data": {
      "image/png": "[encoded data removed]",
      "text/plain": [
       "<Figure size 800x600 with 1 Axes>"
      ]
     },
     "metadata": {},
     "output_type": "display_data"
    }
   ],
   "source": [
    "#Weight vs Heart Rate\n",
    "plt.figure(figsize=(8, 6))\n",
    "plt.bar(Project['Weight'], Project['Heart_Rate'], color='red', alpha=0.7)\n",
    "plt.title('Weight vs Heart Rate')\n",
    "plt.xlabel('Weight')\n",
    "plt.ylabel('Heart Rate')\n",
    "plt.grid(axis='y', linestyle='--', alpha=0.7)\n",
    "plt.show()"
   ]
  },
  {
   "cell_type": "code",
   "execution_count": 21,
   "metadata": {
    "colab": {
     "base_uri": "https://localhost:8080/",
     "height": 564
    },
    "id": "z8L7KV_ZJuOP",
    "outputId": "b368632c-cb90-4beb-f72f-eeb0c784e928"
   },
   "outputs": [
    {
     "data": {
      "image/png": "[encoded data removed]",
      "text/plain": [
       "<Figure size 800x600 with 1 Axes>"
      ]
     },
     "metadata": {},
     "output_type": "display_data"
    }
   ],
   "source": [
    "#Heart_Rate vs Body_Temp\n",
    "plt.figure(figsize=(8, 6))\n",
    "plt.bar(Project['Heart_Rate'], Project['Body_Temp'], color='black', alpha=0.7)\n",
    "plt.title('Heart_Rate vs Body_Temp')\n",
    "plt.xlabel('Heart_Rate')\n",
    "plt.ylabel('Body_Temp')\n",
    "plt.grid(axis='y', linestyle='--', alpha=0.7)\n",
    "plt.show()"
   ]
  },
  {
   "cell_type": "markdown",
   "metadata": {
    "id": "cI_yCWG1L4Ut"
   },
   "source": [
    "Model Implementation."
   ]
  },
  {
   "cell_type": "code",
   "execution_count": 22,
   "metadata": {
    "id": "NpLpsinLKbbJ"
   },
   "outputs": [],
   "source": [
    "from sklearn.model_selection import train_test_split\n",
    "from xgboost import XGBRegressor\n",
    "from sklearn import metrics"
   ]
  },
  {
   "cell_type": "code",
   "execution_count": 23,
   "metadata": {
    "colab": {
     "base_uri": "https://localhost:8080/"
    },
    "id": "8-VvfttiL337",
    "outputId": "82a61f91-8dc6-430e-c01e-f8bcdeaa0367"
   },
   "outputs": [
    {
     "name": "stdout",
     "output_type": "stream",
     "text": [
      "<class 'pandas.core.frame.DataFrame'>\n",
      "RangeIndex: 15000 entries, 0 to 14999\n",
      "Data columns (total 11 columns):\n",
      " #   Column         Non-Null Count  Dtype  \n",
      "---  ------         --------------  -----  \n",
      " 0   User_ID        15000 non-null  int64  \n",
      " 1   Gender         15000 non-null  object \n",
      " 2   Age            15000 non-null  int64  \n",
      " 3   Height         15000 non-null  float64\n",
      " 4   Weight         15000 non-null  float64\n",
      " 5   Duration       15000 non-null  float64\n",
      " 6   Heart_Rate     15000 non-null  float64\n",
      " 7   Body_Temp      15000 non-null  float64\n",
      " 8   Calories       15000 non-null  float64\n",
      " 9   BMI            15000 non-null  float64\n",
      " 10  Weight_Status  15000 non-null  object \n",
      "dtypes: float64(7), int64(2), object(2)\n",
      "memory usage: 1.3+ MB\n"
     ]
    }
   ],
   "source": [
    "#Checking Datatype of our dataset.\n",
    "Project.info()"
   ]
  },
  {
   "cell_type": "code",
   "execution_count": 24,
   "metadata": {
    "colab": {
     "base_uri": "https://localhost:8080/",
     "height": 206
    },
    "id": "op9URWZDPIIk",
    "outputId": "4f28575a-5245-49ae-937a-33466810bd86"
   },
   "outputs": [
    {
     "data": {
      "text/html": [
       "<div>\n",
       "<style scoped>\n",
       "    .dataframe tbody tr th:only-of-type {\n",
       "        vertical-align: middle;\n",
       "    }\n",
       "\n",
       "    .dataframe tbody tr th {\n",
       "        vertical-align: top;\n",
       "    }\n",
       "\n",
       "    .dataframe thead th {\n",
       "        text-align: right;\n",
       "    }\n",
       "</style>\n",
       "<table border=\"1\" class=\"dataframe\">\n",
       "  <thead>\n",
       "    <tr style=\"text-align: right;\">\n",
       "      <th></th>\n",
       "      <th>User_ID</th>\n",
       "      <th>Gender</th>\n",
       "      <th>Age</th>\n",
       "      <th>Height</th>\n",
       "      <th>Weight</th>\n",
       "      <th>Duration</th>\n",
       "      <th>Heart_Rate</th>\n",
       "      <th>Body_Temp</th>\n",
       "      <th>Calories</th>\n",
       "      <th>BMI</th>\n",
       "      <th>Weight_Status</th>\n",
       "    </tr>\n",
       "  </thead>\n",
       "  <tbody>\n",
       "    <tr>\n",
       "      <th>0</th>\n",
       "      <td>14733363</td>\n",
       "      <td>0</td>\n",
       "      <td>68</td>\n",
       "      <td>190.0</td>\n",
       "      <td>94.0</td>\n",
       "      <td>29.0</td>\n",
       "      <td>105.0</td>\n",
       "      <td>40.8</td>\n",
       "      <td>231.0</td>\n",
       "      <td>26.038781</td>\n",
       "      <td>1</td>\n",
       "    </tr>\n",
       "    <tr>\n",
       "      <th>1</th>\n",
       "      <td>14861698</td>\n",
       "      <td>1</td>\n",
       "      <td>20</td>\n",
       "      <td>166.0</td>\n",
       "      <td>60.0</td>\n",
       "      <td>14.0</td>\n",
       "      <td>94.0</td>\n",
       "      <td>40.3</td>\n",
       "      <td>66.0</td>\n",
       "      <td>21.773842</td>\n",
       "      <td>0</td>\n",
       "    </tr>\n",
       "    <tr>\n",
       "      <th>2</th>\n",
       "      <td>11179863</td>\n",
       "      <td>0</td>\n",
       "      <td>69</td>\n",
       "      <td>179.0</td>\n",
       "      <td>79.0</td>\n",
       "      <td>5.0</td>\n",
       "      <td>88.0</td>\n",
       "      <td>38.7</td>\n",
       "      <td>26.0</td>\n",
       "      <td>24.655910</td>\n",
       "      <td>0</td>\n",
       "    </tr>\n",
       "    <tr>\n",
       "      <th>3</th>\n",
       "      <td>16180408</td>\n",
       "      <td>1</td>\n",
       "      <td>34</td>\n",
       "      <td>179.0</td>\n",
       "      <td>71.0</td>\n",
       "      <td>13.0</td>\n",
       "      <td>100.0</td>\n",
       "      <td>40.5</td>\n",
       "      <td>71.0</td>\n",
       "      <td>22.159109</td>\n",
       "      <td>0</td>\n",
       "    </tr>\n",
       "    <tr>\n",
       "      <th>4</th>\n",
       "      <td>17771927</td>\n",
       "      <td>1</td>\n",
       "      <td>27</td>\n",
       "      <td>154.0</td>\n",
       "      <td>58.0</td>\n",
       "      <td>10.0</td>\n",
       "      <td>81.0</td>\n",
       "      <td>39.8</td>\n",
       "      <td>35.0</td>\n",
       "      <td>24.456063</td>\n",
       "      <td>0</td>\n",
       "    </tr>\n",
       "  </tbody>\n",
       "</table>\n",
       "</div>"
      ],
      "text/plain": [
       "    User_ID  Gender  Age  Height  Weight  Duration  Heart_Rate  Body_Temp  \\\n",
       "0  14733363       0   68   190.0    94.0      29.0       105.0       40.8   \n",
       "1  14861698       1   20   166.0    60.0      14.0        94.0       40.3   \n",
       "2  11179863       0   69   179.0    79.0       5.0        88.0       38.7   \n",
       "3  16180408       1   34   179.0    71.0      13.0       100.0       40.5   \n",
       "4  17771927       1   27   154.0    58.0      10.0        81.0       39.8   \n",
       "\n",
       "   Calories        BMI  Weight_Status  \n",
       "0     231.0  26.038781              1  \n",
       "1      66.0  21.773842              0  \n",
       "2      26.0  24.655910              0  \n",
       "3      71.0  22.159109              0  \n",
       "4      35.0  24.456063              0  "
      ]
     },
     "execution_count": 24,
     "metadata": {},
     "output_type": "execute_result"
    }
   ],
   "source": [
    "#Since Gender and Weight Status are in Objects we converted them to int.\n",
    "Project.replace({'Gender':{'male':0,'female':1}}, inplace=True)\n",
    "Project.replace({'Weight_Status':{'Healthy Weight':0,'Overweight':1}}, inplace=True)\n",
    "Project.head()"
   ]
  },
  {
   "cell_type": "code",
   "execution_count": 25,
   "metadata": {
    "colab": {
     "base_uri": "https://localhost:8080/"
    },
    "id": "03oqj7u_BWBp",
    "outputId": "02b543ac-a0da-492b-abb6-58183cb00752"
   },
   "outputs": [
    {
     "data": {
      "text/plain": [
       "Gender\n",
       "1    7553\n",
       "0    7447\n",
       "Name: count, dtype: int64"
      ]
     },
     "execution_count": 25,
     "metadata": {},
     "output_type": "execute_result"
    }
   ],
   "source": [
    "Project['Gender'].value_counts()"
   ]
  },
  {
   "cell_type": "code",
   "execution_count": 26,
   "metadata": {
    "colab": {
     "base_uri": "https://localhost:8080/"
    },
    "id": "SPMvlBCQBZSx",
    "outputId": "cb50cb33-393b-46e6-f006-584a8c96fbb7"
   },
   "outputs": [
    {
     "data": {
      "text/plain": [
       "Weight_Status\n",
       "0    9792\n",
       "1    5208\n",
       "Name: count, dtype: int64"
      ]
     },
     "execution_count": 26,
     "metadata": {},
     "output_type": "execute_result"
    }
   ],
   "source": [
    "Project['Weight_Status'].value_counts()"
   ]
  },
  {
   "cell_type": "code",
   "execution_count": 27,
   "metadata": {
    "id": "CmTXBXN2Pwxe"
   },
   "outputs": [],
   "source": [
    "# Selecting features and target variable\n",
    "X = Project.drop(['User_ID', 'Calories'], axis=1)\n",
    "y = Project['Calories']"
   ]
  },
  {
   "cell_type": "code",
   "execution_count": 28,
   "metadata": {
    "colab": {
     "base_uri": "https://localhost:8080/"
    },
    "id": "ujuiGhBvRAUi",
    "outputId": "599099dd-e393-4857-ffb1-322d7868f7f0"
   },
   "outputs": [
    {
     "name": "stdout",
     "output_type": "stream",
     "text": [
      "       Gender  Age  Height  Weight  Duration  Heart_Rate  Body_Temp  \\\n",
      "0           0   68   190.0    94.0      29.0       105.0       40.8   \n",
      "1           1   20   166.0    60.0      14.0        94.0       40.3   \n",
      "2           0   69   179.0    79.0       5.0        88.0       38.7   \n",
      "3           1   34   179.0    71.0      13.0       100.0       40.5   \n",
      "4           1   27   154.0    58.0      10.0        81.0       39.8   \n",
      "...       ...  ...     ...     ...       ...         ...        ...   \n",
      "14995       1   20   193.0    86.0      11.0        92.0       40.4   \n",
      "14996       1   27   165.0    65.0       6.0        85.0       39.2   \n",
      "14997       1   43   159.0    58.0      16.0        90.0       40.1   \n",
      "14998       0   78   193.0    97.0       2.0        84.0       38.3   \n",
      "14999       0   63   173.0    79.0      18.0        92.0       40.5   \n",
      "\n",
      "             BMI  Weight_Status  \n",
      "0      26.038781              1  \n",
      "1      21.773842              0  \n",
      "2      24.655910              0  \n",
      "3      22.159109              0  \n",
      "4      24.456063              0  \n",
      "...          ...            ...  \n",
      "14995  23.087868              0  \n",
      "14996  23.875115              0  \n",
      "14997  22.942130              0  \n",
      "14998  26.040968              1  \n",
      "14999  26.395803              1  \n",
      "\n",
      "[15000 rows x 9 columns]\n"
     ]
    }
   ],
   "source": [
    "print(X)"
   ]
  },
  {
   "cell_type": "code",
   "execution_count": 29,
   "metadata": {
    "colab": {
     "base_uri": "https://localhost:8080/"
    },
    "id": "xHLlRen-REOl",
    "outputId": "749b0722-7bcc-43bf-d196-7f14994dc876"
   },
   "outputs": [
    {
     "name": "stdout",
     "output_type": "stream",
     "text": [
      "0        231.0\n",
      "1         66.0\n",
      "2         26.0\n",
      "3         71.0\n",
      "4         35.0\n",
      "         ...  \n",
      "14995     45.0\n",
      "14996     23.0\n",
      "14997     75.0\n",
      "14998     11.0\n",
      "14999     98.0\n",
      "Name: Calories, Length: 15000, dtype: float64\n"
     ]
    }
   ],
   "source": [
    "print(y)"
   ]
  },
  {
   "cell_type": "code",
   "execution_count": 30,
   "metadata": {
    "id": "IJyETZo2nGqo"
   },
   "outputs": [],
   "source": [
    "# Splitting the data into training and testing sets\n",
    "X_train, X_test, y_train, y_test = train_test_split(X, y, test_size=0.2, random_state=2)"
   ]
  },
  {
   "cell_type": "code",
   "execution_count": 31,
   "metadata": {
    "colab": {
     "base_uri": "https://localhost:8080/",
     "height": 248
    },
    "id": "QA29BYSJSAUK",
    "outputId": "8289ff09-08e5-4fca-f5c8-8d425d69fb1d"
   },
   "outputs": [
    {
     "data": {
      "text/html": [
       "<style>#sk-container-id-1 {color: black;}#sk-container-id-1 pre{padding: 0;}#sk-container-id-1 div.sk-toggleable {background-color: white;}#sk-container-id-1 label.sk-toggleable__label {cursor: pointer;display: block;width: 100%;margin-bottom: 0;padding: 0.3em;box-sizing: border-box;text-align: center;}#sk-container-id-1 label.sk-toggleable__label-arrow:before {content: \"▸\";float: left;margin-right: 0.25em;color: #696969;}#sk-container-id-1 label.sk-toggleable__label-arrow:hover:before {color: black;}#sk-container-id-1 div.sk-estimator:hover label.sk-toggleable__label-arrow:before {color: black;}#sk-container-id-1 div.sk-toggleable__content {max-height: 0;max-width: 0;overflow: hidden;text-align: left;background-color: #f0f8ff;}#sk-container-id-1 div.sk-toggleable__content pre {margin: 0.2em;color: black;border-radius: 0.25em;background-color: #f0f8ff;}#sk-container-id-1 input.sk-toggleable__control:checked~div.sk-toggleable__content {max-height: 200px;max-width: 100%;overflow: auto;}#sk-container-id-1 input.sk-toggleable__control:checked~label.sk-toggleable__label-arrow:before {content: \"▾\";}#sk-container-id-1 div.sk-estimator input.sk-toggleable__control:checked~label.sk-toggleable__label {background-color: #d4ebff;}#sk-container-id-1 div.sk-label input.sk-toggleable__control:checked~label.sk-toggleable__label {background-color: #d4ebff;}#sk-container-id-1 input.sk-hidden--visually {border: 0;clip: rect(1px 1px 1px 1px);clip: rect(1px, 1px, 1px, 1px);height: 1px;margin: -1px;overflow: hidden;padding: 0;position: absolute;width: 1px;}#sk-container-id-1 div.sk-estimator {font-family: monospace;background-color: #f0f8ff;border: 1px dotted black;border-radius: 0.25em;box-sizing: border-box;margin-bottom: 0.5em;}#sk-container-id-1 div.sk-estimator:hover {background-color: #d4ebff;}#sk-container-id-1 div.sk-parallel-item::after {content: \"\";width: 100%;border-bottom: 1px solid gray;flex-grow: 1;}#sk-container-id-1 div.sk-label:hover label.sk-toggleable__label {background-color: #d4ebff;}#sk-container-id-1 div.sk-serial::before {content: \"\";position: absolute;border-left: 1px solid gray;box-sizing: border-box;top: 0;bottom: 0;left: 50%;z-index: 0;}#sk-container-id-1 div.sk-serial {display: flex;flex-direction: column;align-items: center;background-color: white;padding-right: 0.2em;padding-left: 0.2em;position: relative;}#sk-container-id-1 div.sk-item {position: relative;z-index: 1;}#sk-container-id-1 div.sk-parallel {display: flex;align-items: stretch;justify-content: center;background-color: white;position: relative;}#sk-container-id-1 div.sk-item::before, #sk-container-id-1 div.sk-parallel-item::before {content: \"\";position: absolute;border-left: 1px solid gray;box-sizing: border-box;top: 0;bottom: 0;left: 50%;z-index: -1;}#sk-container-id-1 div.sk-parallel-item {display: flex;flex-direction: column;z-index: 1;position: relative;background-color: white;}#sk-container-id-1 div.sk-parallel-item:first-child::after {align-self: flex-end;width: 50%;}#sk-container-id-1 div.sk-parallel-item:last-child::after {align-self: flex-start;width: 50%;}#sk-container-id-1 div.sk-parallel-item:only-child::after {width: 0;}#sk-container-id-1 div.sk-dashed-wrapped {border: 1px dashed gray;margin: 0 0.4em 0.5em 0.4em;box-sizing: border-box;padding-bottom: 0.4em;background-color: white;}#sk-container-id-1 div.sk-label label {font-family: monospace;font-weight: bold;display: inline-block;line-height: 1.2em;}#sk-container-id-1 div.sk-label-container {text-align: center;}#sk-container-id-1 div.sk-container {/* jupyter's `normalize.less` sets `[hidden] { display: none; }` but bootstrap.min.css set `[hidden] { display: none !important; }` so we also need the `!important` here to be able to override the default hidden behavior on the sphinx rendered scikit-learn.org. See: https://github.com/scikit-learn/scikit-learn/issues/21755 */display: inline-block !important;position: relative;}#sk-container-id-1 div.sk-text-repr-fallback {display: none;}</style><div id=\"sk-container-id-1\" class=\"sk-top-container\"><div class=\"sk-text-repr-fallback\"><pre>XGBRegressor(base_score=None, booster=None, callbacks=None,\n",
       "             colsample_bylevel=None, colsample_bynode=None,\n",
       "             colsample_bytree=None, device=None, early_stopping_rounds=None,\n",
       "             enable_categorical=False, eval_metric=None, feature_types=None,\n",
       "             gamma=None, grow_policy=None, importance_type=None,\n",
       "             interaction_constraints=None, learning_rate=None, max_bin=None,\n",
       "             max_cat_threshold=None, max_cat_to_onehot=None,\n",
       "             max_delta_step=None, max_depth=None, max_leaves=None,\n",
       "             min_child_weight=None, missing=nan, monotone_constraints=None,\n",
       "             multi_strategy=None, n_estimators=None, n_jobs=None,\n",
       "             num_parallel_tree=None, random_state=None, ...)</pre><b>In a Jupyter environment, please rerun this cell to show the HTML representation or trust the notebook. <br />On GitHub, the HTML representation is unable to render, please try loading this page with nbviewer.org.</b></div><div class=\"sk-container\" hidden><div class=\"sk-item\"><div class=\"sk-estimator sk-toggleable\"><input class=\"sk-toggleable__control sk-hidden--visually\" id=\"sk-estimator-id-1\" type=\"checkbox\" checked><label for=\"sk-estimator-id-1\" class=\"sk-toggleable__label sk-toggleable__label-arrow\">XGBRegressor</label><div class=\"sk-toggleable__content\"><pre>XGBRegressor(base_score=None, booster=None, callbacks=None,\n",
       "             colsample_bylevel=None, colsample_bynode=None,\n",
       "             colsample_bytree=None, device=None, early_stopping_rounds=None,\n",
       "             enable_categorical=False, eval_metric=None, feature_types=None,\n",
       "             gamma=None, grow_policy=None, importance_type=None,\n",
       "             interaction_constraints=None, learning_rate=None, max_bin=None,\n",
       "             max_cat_threshold=None, max_cat_to_onehot=None,\n",
       "             max_delta_step=None, max_depth=None, max_leaves=None,\n",
       "             min_child_weight=None, missing=nan, monotone_constraints=None,\n",
       "             multi_strategy=None, n_estimators=None, n_jobs=None,\n",
       "             num_parallel_tree=None, random_state=None, ...)</pre></div></div></div></div></div>"
      ],
      "text/plain": [
       "XGBRegressor(base_score=None, booster=None, callbacks=None,\n",
       "             colsample_bylevel=None, colsample_bynode=None,\n",
       "             colsample_bytree=None, device=None, early_stopping_rounds=None,\n",
       "             enable_categorical=False, eval_metric=None, feature_types=None,\n",
       "             gamma=None, grow_policy=None, importance_type=None,\n",
       "             interaction_constraints=None, learning_rate=None, max_bin=None,\n",
       "             max_cat_threshold=None, max_cat_to_onehot=None,\n",
       "             max_delta_step=None, max_depth=None, max_leaves=None,\n",
       "             min_child_weight=None, missing=nan, monotone_constraints=None,\n",
       "             multi_strategy=None, n_estimators=None, n_jobs=None,\n",
       "             num_parallel_tree=None, random_state=None, ...)"
      ]
     },
     "execution_count": 31,
     "metadata": {},
     "output_type": "execute_result"
    }
   ],
   "source": [
    "XG_model = XGBRegressor()\n",
    "XG_model.fit(X_train, y_train)"
   ]
  },
  {
   "cell_type": "code",
   "execution_count": 32,
   "metadata": {
    "id": "eiKfQwAJSISh"
   },
   "outputs": [],
   "source": [
    "predictions = XG_model.predict(X_test)"
   ]
  },
  {
   "cell_type": "code",
   "execution_count": 33,
   "metadata": {
    "id": "89n2FxIBW2Sw"
   },
   "outputs": [],
   "source": [
    "from sklearn.metrics import mean_absolute_error, r2_score\n",
    "import numpy as np\n"
   ]
  },
  {
   "cell_type": "code",
   "execution_count": 34,
   "metadata": {
    "colab": {
     "base_uri": "https://localhost:8080/"
    },
    "id": "4NDMWTDqSTcH",
    "outputId": "d1fcb7d8-cef2-43db-bbed-db112f01dc4a"
   },
   "outputs": [
    {
     "name": "stdout",
     "output_type": "stream",
     "text": [
      "Mean Squared Error: 4.961489651735103\n"
     ]
    }
   ],
   "source": [
    "from sklearn.metrics import mean_squared_error\n",
    "mse = mean_squared_error(y_test, predictions)\n",
    "print(f\"Mean Squared Error: {mse}\")"
   ]
  },
  {
   "cell_type": "code",
   "execution_count": 35,
   "metadata": {
    "colab": {
     "base_uri": "https://localhost:8080/"
    },
    "id": "z569xc__W119",
    "outputId": "04b1d97b-ddf9-48f2-eb9a-d7712c1e6da2"
   },
   "outputs": [
    {
     "name": "stdout",
     "output_type": "stream",
     "text": [
      "2.2274401567124316\n",
      "1.5287106871604919\n"
     ]
    }
   ],
   "source": [
    "# Calculating Root Mean Squared Error (RMSE)\n",
    "\n",
    "rmse = np.sqrt(mse)\n",
    "\n",
    "# Calculating Mean Absolute Error (MAE)\n",
    "mae = mean_absolute_error(y_test, predictions)\n",
    "\n",
    "print(rmse)\n",
    "print(mae)"
   ]
  },
  {
   "cell_type": "code",
   "execution_count": 36,
   "metadata": {
    "colab": {
     "base_uri": "https://localhost:8080/"
    },
    "id": "u-UhjFNIUq-p",
    "outputId": "b75a1405-d449-4873-c0a6-77d7ec4e85e5"
   },
   "outputs": [
    {
     "name": "stdout",
     "output_type": "stream",
     "text": [
      "Enter your height in cm: 175\n",
      "Enter your weight in kg: 88\n",
      "BMI: 28.73469387755102\n"
     ]
    }
   ],
   "source": [
    "# Loading the model\n",
    "\n",
    "model = XG_model\n",
    "\n",
    "# Defining a function to calculate BMI\n",
    "def calculate_bmi(height, weight):\n",
    "    height_meters = height / 100\n",
    "    return weight / (height_meters ** 2)\n",
    "\n",
    "# Defining a function to make predictions\n",
    "def predict_calories_burnt(gender, age, height, weight, duration, heart_rate, body_temp, bmi, weight_status):\n",
    "    # Making prediction\n",
    "    prediction = model.predict([[gender, age, height, weight, duration, heart_rate, body_temp, bmi, weight_status]])\n",
    "\n",
    "    return prediction[0]\n",
    "\n",
    "# Taking a user input for height and weight\n",
    "height = float(input(\"Enter your height in cm: \"))\n",
    "weight = float(input(\"Enter your weight in kg: \"))\n",
    "\n",
    "# Calculating BMI\n",
    "bmi = calculate_bmi(height, weight)\n",
    "print(\"BMI:\", bmi)\n"
   ]
  },
  {
   "cell_type": "markdown",
   "metadata": {
    "id": "GFaNy4xDrEK5"
   },
   "source": [
    "![BMI (1).png](data:image/png;base64,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)"
   ]
  },
  {
   "cell_type": "code",
   "execution_count": 37,
   "metadata": {
    "colab": {
     "base_uri": "https://localhost:8080/"
    },
    "id": "XwCrmXm4YUDR",
    "outputId": "3f8e572b-b8f9-44eb-e09f-f5071dd2eb41"
   },
   "outputs": [
    {
     "name": "stdout",
     "output_type": "stream",
     "text": [
      "Enter your gender (male/female): male\n",
      "Enter your age: 36\n",
      "Enter duration of activity in minutes: 45\n",
      "Enter your heart rate: 77\n",
      "Enter your body temperature: 36.8\n",
      "Enter your weight status (Underweight/Healthy Weight/Overweight): Overweight\n",
      "Predicted calories burnt: 135.5236\n"
     ]
    }
   ],
   "source": [
    "# Taking user input for other features\n",
    "gender = input(\"Enter your gender (male/female): \")\n",
    "gender_num = 0 if gender.lower() == \"male\" else 1\n",
    "\n",
    "age = int(input(\"Enter your age: \"))\n",
    "duration = float(input(\"Enter duration of activity in minutes: \"))\n",
    "heart_rate = float(input(\"Enter your heart rate: \"))\n",
    "body_temp = float(input(\"Enter your body temperature: \"))\n",
    "weight_status = input(\"Enter your weight status (Underweight/Healthy Weight/Overweight): \")\n",
    "weight_status_num = 0 if weight_status.lower() == \"underweight\" else 1 if weight_status.lower() == \"healthy weight\" else 2\n",
    "\n",
    "# Predicting calories burnt\n",
    "prediction = predict_calories_burnt(gender_num, age, height, weight, duration, heart_rate, body_temp, bmi, weight_status_num)\n",
    "print(\"Predicted calories burnt:\", prediction)\n"
   ]
  },
  {
   "cell_type": "code",
   "execution_count": 38,
   "metadata": {
    "colab": {
     "base_uri": "https://localhost:8080/"
    },
    "id": "Q4d2m5Joag9j",
    "outputId": "9d253852-f4df-4f0a-9d94-b3a9c93d5065"
   },
   "outputs": [
    {
     "name": "stdout",
     "output_type": "stream",
     "text": [
      "Requirement already satisfied: streamlit in ./anaconda3/lib/python3.11/site-packages (1.33.0)\n",
      "Requirement already satisfied: altair<6,>=4.0 in ./anaconda3/lib/python3.11/site-packages (from streamlit) (5.3.0)\n",
      "Requirement already satisfied: blinker<2,>=1.0.0 in ./anaconda3/lib/python3.11/site-packages (from streamlit) (1.7.0)\n",
      "Requirement already satisfied: cachetools<6,>=4.0 in ./anaconda3/lib/python3.11/site-packages (from streamlit) (5.3.3)\n",
      "Requirement already satisfied: click<9,>=7.0 in ./anaconda3/lib/python3.11/site-packages (from streamlit) (8.0.4)\n",
      "Requirement already satisfied: numpy<2,>=1.19.3 in ./anaconda3/lib/python3.11/site-packages (from streamlit) (1.24.3)\n",
      "Requirement already satisfied: packaging<25,>=16.8 in ./anaconda3/lib/python3.11/site-packages (from streamlit) (23.1)\n",
      "Requirement already satisfied: pandas<3,>=1.3.0 in ./anaconda3/lib/python3.11/site-packages (from streamlit) (2.0.3)\n",
      "Requirement already satisfied: pillow<11,>=7.1.0 in ./anaconda3/lib/python3.11/site-packages (from streamlit) (10.0.1)\n",
      "Requirement already satisfied: protobuf<5,>=3.20 in ./anaconda3/lib/python3.11/site-packages (from streamlit) (3.20.3)\n",
      "Requirement already satisfied: pyarrow>=7.0 in ./anaconda3/lib/python3.11/site-packages (from streamlit) (11.0.0)\n",
      "Requirement already satisfied: requests<3,>=2.27 in ./anaconda3/lib/python3.11/site-packages (from streamlit) (2.31.0)\n",
      "Requirement already satisfied: rich<14,>=10.14.0 in ./anaconda3/lib/python3.11/site-packages (from streamlit) (13.7.1)\n",
      "Requirement already satisfied: tenacity<9,>=8.1.0 in ./anaconda3/lib/python3.11/site-packages (from streamlit) (8.2.2)\n",
      "Requirement already satisfied: toml<2,>=0.10.1 in ./anaconda3/lib/python3.11/site-packages (from streamlit) (0.10.2)\n",
      "Requirement already satisfied: typing-extensions<5,>=4.3.0 in ./anaconda3/lib/python3.11/site-packages (from streamlit) (4.7.1)\n",
      "Requirement already satisfied: gitpython!=3.1.19,<4,>=3.0.7 in ./anaconda3/lib/python3.11/site-packages (from streamlit) (3.1.43)\n",
      "Requirement already satisfied: pydeck<1,>=0.8.0b4 in ./anaconda3/lib/python3.11/site-packages (from streamlit) (0.8.1b0)\n",
      "Requirement already satisfied: tornado<7,>=6.0.3 in ./anaconda3/lib/python3.11/site-packages (from streamlit) (6.3.2)\n",
      "Requirement already satisfied: jinja2 in ./anaconda3/lib/python3.11/site-packages (from altair<6,>=4.0->streamlit) (3.1.2)\n",
      "Requirement already satisfied: jsonschema>=3.0 in ./anaconda3/lib/python3.11/site-packages (from altair<6,>=4.0->streamlit) (4.17.3)\n",
      "Requirement already satisfied: toolz in ./anaconda3/lib/python3.11/site-packages (from altair<6,>=4.0->streamlit) (0.12.0)\n",
      "Requirement already satisfied: gitdb<5,>=4.0.1 in ./anaconda3/lib/python3.11/site-packages (from gitpython!=3.1.19,<4,>=3.0.7->streamlit) (4.0.11)\n",
      "Requirement already satisfied: python-dateutil>=2.8.2 in ./anaconda3/lib/python3.11/site-packages (from pandas<3,>=1.3.0->streamlit) (2.8.2)\n",
      "Requirement already satisfied: pytz>=2020.1 in ./anaconda3/lib/python3.11/site-packages (from pandas<3,>=1.3.0->streamlit) (2023.3.post1)\n",
      "Requirement already satisfied: tzdata>=2022.1 in ./anaconda3/lib/python3.11/site-packages (from pandas<3,>=1.3.0->streamlit) (2023.3)\n",
      "Requirement already satisfied: charset-normalizer<4,>=2 in ./anaconda3/lib/python3.11/site-packages (from requests<3,>=2.27->streamlit) (2.0.4)\n",
      "Requirement already satisfied: idna<4,>=2.5 in ./anaconda3/lib/python3.11/site-packages (from requests<3,>=2.27->streamlit) (3.4)\n",
      "Requirement already satisfied: urllib3<3,>=1.21.1 in ./anaconda3/lib/python3.11/site-packages (from requests<3,>=2.27->streamlit) (1.26.16)\n",
      "Requirement already satisfied: certifi>=2017.4.17 in ./anaconda3/lib/python3.11/site-packages (from requests<3,>=2.27->streamlit) (2024.2.2)\n",
      "Requirement already satisfied: markdown-it-py>=2.2.0 in ./anaconda3/lib/python3.11/site-packages (from rich<14,>=10.14.0->streamlit) (2.2.0)\n",
      "Requirement already satisfied: pygments<3.0.0,>=2.13.0 in ./anaconda3/lib/python3.11/site-packages (from rich<14,>=10.14.0->streamlit) (2.15.1)\n",
      "Requirement already satisfied: smmap<6,>=3.0.1 in ./anaconda3/lib/python3.11/site-packages (from gitdb<5,>=4.0.1->gitpython!=3.1.19,<4,>=3.0.7->streamlit) (5.0.1)\n",
      "Requirement already satisfied: MarkupSafe>=2.0 in ./anaconda3/lib/python3.11/site-packages (from jinja2->altair<6,>=4.0->streamlit) (2.1.1)\n",
      "Requirement already satisfied: attrs>=17.4.0 in ./anaconda3/lib/python3.11/site-packages (from jsonschema>=3.0->altair<6,>=4.0->streamlit) (22.1.0)\n",
      "Requirement already satisfied: pyrsistent!=0.17.0,!=0.17.1,!=0.17.2,>=0.14.0 in ./anaconda3/lib/python3.11/site-packages (from jsonschema>=3.0->altair<6,>=4.0->streamlit) (0.18.0)\n",
      "Requirement already satisfied: mdurl~=0.1 in ./anaconda3/lib/python3.11/site-packages (from markdown-it-py>=2.2.0->rich<14,>=10.14.0->streamlit) (0.1.0)\n",
      "Requirement already satisfied: six>=1.5 in ./anaconda3/lib/python3.11/site-packages (from python-dateutil>=2.8.2->pandas<3,>=1.3.0->streamlit) (1.16.0)\n"
     ]
    }
   ],
   "source": [
    "#Installing Streamlit.\n",
    "\n",
    "!pip install streamlit"
   ]
  },
  {
   "cell_type": "code",
   "execution_count": 39,
   "metadata": {
    "id": "F0qiXADwx3Vk"
   },
   "outputs": [],
   "source": [
    "#Importing Streamlit library\n",
    "import streamlit as st"
   ]
  },
  {
   "cell_type": "code",
   "execution_count": 41,
   "metadata": {},
   "outputs": [
    {
     "name": "stdout",
     "output_type": "stream",
     "text": [
      "Error while loading conda entry point: anaconda-cloud-auth (cannot import name 'ChannelAuthBase' from 'conda.plugins.types' (/Users/harshavardhan/anaconda3/lib/python3.11/site-packages/conda/plugins/types.py))\n",
      "Error while loading conda entry point: anaconda-cloud-auth (cannot import name 'ChannelAuthBase' from 'conda.plugins.types' (/Users/harshavardhan/anaconda3/lib/python3.11/site-packages/conda/plugins/types.py))\n",
      "Collecting package metadata (current_repodata.json): done\n",
      "Solving environment: done\n",
      "\n",
      "\n",
      "==> WARNING: A newer version of conda exists. <==\n",
      "  current version: 23.7.4\n",
      "  latest version: 24.3.0\n",
      "\n",
      "Please update conda by running\n",
      "\n",
      "    $ conda update -n base -c defaults conda\n",
      "\n",
      "Or to minimize the number of packages updated during conda update use\n",
      "\n",
      "     conda install conda=24.3.0\n",
      "\n",
      "\n",
      "\n",
      "# All requested packages already installed.\n",
      "\n"
     ]
    }
   ],
   "source": [
    "#Loading streamlit entry point through anaconda\n",
    "!conda install -c conda-forge streamlit\n"
   ]
  },
  {
   "cell_type": "code",
   "execution_count": 42,
   "metadata": {},
   "outputs": [],
   "source": [
    "#Importing pickles model to write it and open it in app.py files"
   ]
  },
  {
   "cell_type": "code",
   "execution_count": 43,
   "metadata": {
    "id": "81YPZLe8xaU9"
   },
   "outputs": [],
   "source": [
    "import pickle\n",
    "\n",
    "model = XG_model\n",
    "\n",
    "\n",
    "# Save the trained model as a pickle file\n",
    "with open('model.pkl', 'wb') as f:\n",
    "    pickle.dump(model, f)\n"
   ]
  },
  {
   "cell_type": "code",
   "execution_count": 44,
   "metadata": {
    "id": "Y_94cD6Q1g2h"
   },
   "outputs": [],
   "source": [
    "# Load the trained model\n",
    "with open('model.pkl', 'rb') as f:\n",
    "    model = pickle.load(f)"
   ]
  },
  {
   "cell_type": "code",
   "execution_count": 45,
   "metadata": {},
   "outputs": [
    {
     "name": "stdout",
     "output_type": "stream",
     "text": [
      "Overwriting app.py\n"
     ]
    }
   ],
   "source": [
    "%%writefile app.py\n",
    "\n",
    "import streamlit as st\n",
    "import pickle\n",
    "import pandas as pd\n",
    "from xgboost import XGBRegressor\n",
    "\n",
    "# Load the trained model\n",
    "with open('model.pkl', 'rb') as f:\n",
    "    model = pickle.load(f)\n",
    "\n",
    "# Define a function to calculate BMI\n",
    "def calculate_bmi(height, weight):\n",
    "    if height == 0:\n",
    "        return 0  # or any default value you prefer\n",
    "    height_meters = height / 100\n",
    "    return weight / (height_meters ** 2)\n",
    "\n",
    "\n",
    "# Define a function to make predictions\n",
    "def predict_calories_burnt(gender, age, height, weight, duration, heart_rate, body_temp, bmi, weight_status):\n",
    "    # Make prediction\n",
    "    prediction = model.predict([[gender, age, height, weight, duration, heart_rate, body_temp, bmi, weight_status]])\n",
    "    return prediction[0]\n",
    "\n",
    "# Streamlit app\n",
    "def main():\n",
    "    st.title(\"Calories Burnt Prediction\")\n",
    "    \n",
    "\n",
    "    # User inputs\n",
    "    height = st.number_input(\"Enter your height in cm:\", min_value=0.0, step=1.0)\n",
    "    weight = st.number_input(\"Enter your weight in kg:\", min_value=0.0, step=1.0)\n",
    "    gender = st.selectbox(\"Select your gender\", [\"Male\", \"Female\"])\n",
    "    age = st.number_input(\"Enter your age:\", min_value=0, step=1)\n",
    "    duration = st.number_input(\"Enter duration of activity in minutes:\", min_value=0.0, step=1.0)\n",
    "    heart_rate = st.number_input(\"Enter your heart rate:\", min_value=0.0, step=1.0)\n",
    "    body_temp = st.number_input(\"Enter your body temperature:\", min_value=0.0, step=0.1)\n",
    "    weight_status = st.selectbox(\"Select your weight status\", [\"Healthy Weight\", \"Overweight\"])\n",
    "\n",
    "    # Encode gender and weight status\n",
    "    gender_num = 0 if gender == \"Male\" else 1\n",
    "    weight_status_label = 0 if weight_status == \"Healthy Weight\" else 1\n",
    "\n",
    "    # Calculate BMI\n",
    "    bmi = calculate_bmi(height, weight)\n",
    "    st.write(\"BMI:\", bmi)\n",
    "\n",
    "    # Predict calories burnt\n",
    "    if st.button(\"Predict\"):\n",
    "        prediction = predict_calories_burnt(gender_num, age, height, weight, duration, heart_rate, body_temp, bmi, weight_status_label)\n",
    "        st.write(\"Predicted calories burnt:\", round(prediction, 2))\n",
    "\n",
    "if __name__ == \"__main__\":\n",
    "    main()\n"
   ]
  },
  {
   "cell_type": "code",
   "execution_count": null,
   "metadata": {
    "colab": {
     "base_uri": "https://localhost:8080/"
    },
    "id": "ovgdGhm921qu",
    "outputId": "c17a2726-38ac-4745-b8b5-e9d7506d7f7d"
   },
   "outputs": [
    {
     "name": "stdout",
     "output_type": "stream",
     "text": [
      "\u001b[0m\r\n",
      "\u001b[34m\u001b[1m  You can now view your Streamlit app in your browser.\u001b[0m\r\n",
      "\u001b[0m\r\n",
      "\u001b[34m  Local URL: \u001b[0m\u001b[1mhttp://localhost:8501\u001b[0m\r\n",
      "\u001b[34m  Network URL: \u001b[0m\u001b[1mhttp://10.3.31.147:8501\u001b[0m\r\n",
      "\u001b[0m\r\n"
     ]
    }
   ],
   "source": [
    "!streamlit run app.py\n"
   ]
  },
  {
   "cell_type": "code",
   "execution_count": null,
   "metadata": {
    "id": "yyjKL-W0Qf0k"
   },
   "outputs": [],
   "source": []
  },
  {
   "cell_type": "code",
   "execution_count": null,
   "metadata": {},
   "outputs": [],
   "source": []
  },
  {
   "cell_type": "code",
   "execution_count": null,
   "metadata": {},
   "outputs": [],
   "source": []
  }
 ],
 "metadata": {
  "colab": {
   "provenance": []
  },
  "kernelspec": {
   "display_name": "Python 3 (ipykernel)",
   "language": "python",
   "name": "python3"
  },
  "language_info": {
   "codemirror_mode": {
    "name": "ipython",
    "version": 3
   },
   "file_extension": ".py",
   "mimetype": "text/x-python",
   "name": "python",
   "nbconvert_exporter": "python",
   "pygments_lexer": "ipython3",
   "version": "3.11.5"
  }
 },
 "nbformat": 4,
 "nbformat_minor": 1
}
